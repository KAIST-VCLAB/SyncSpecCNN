{
 "cells": [
  {
   "cell_type": "code",
   "execution_count": null,
   "metadata": {
    "collapsed": false
   },
   "outputs": [],
   "source": [
    "-----------------------------------------------------------------------------------------------------------------------\n",
    "-- requirements:\n",
    "-- data: train/test mat file -- data.v(point feature, with last three features being the xyz coordinates) data.V(LB basis) data.D(LB energy) data.label(point label)\n",
    "--       jointSpec mat file -- data.V(joint LB basis) data.D(joint LB energy) data.vidx(voxel space index) assume ngrid=20\n",
    "-- comments: in the aligned setting, we use voxelized R3 space to map individual spec to the jointSpec\n",
    "-----------------------------------------------------------------------------------------------------------------------\n",
    "require 'nn'\n",
    "require 'cutorch'\n",
    "require 'cunn'\n",
    "require 'optim'\n",
    "require 'MyDataContainer'\n",
    "require 'MyTrainer'\n",
    "require 'MyModel'\n",
    "require 'MyCriterion'\n",
    "require 'MyCriterionSpecTN'\n",
    "require 'torchx'\n",
    "matio = require 'matio'\n",
    "matio.use_lua_strings = true\n",
    "tensorType = \"torch.CudaTensor\""
   ]
  },
  {
   "cell_type": "code",
   "execution_count": null,
   "metadata": {
    "collapsed": false
   },
   "outputs": [],
   "source": [
    "synset = 'LampSmall'\n",
    "--datapath = '/orions4-zfs/projects/ericyi/SCNN/Code/matlabcode/gen_shape_pc_fea/Data/'\n",
    "datapath = '../Data/Categories/'\n",
    "trainList = {}\n",
    "for i=1,3 do\n",
    "    trainList[i] = matio.load(datapath..synset..'/train_'..i..'.mat')\n",
    "end\n",
    "testList = {}\n",
    "for i=1,1 do\n",
    "    testList[1] = matio.load(datapath..synset..'/test_'..i..'.mat')\n",
    "end\n",
    "function trainList:size() \n",
    "    return #self\n",
    "end\n",
    "function testList:size() \n",
    "    return #self\n",
    "end\n",
    "ndim = 15\n",
    "ndimJoint = 45\n",
    "nin = 33\n",
    "nout = 4"
   ]
  },
  {
   "cell_type": "code",
   "execution_count": null,
   "metadata": {
    "collapsed": false
   },
   "outputs": [],
   "source": [
    "-- pretrain SpecTN\n",
    "model_spectn = SpecTN(ndim,ndimJoint):cuda()\n",
    "criterion_spectn = nn.MyCriterionSpecTN():cuda()\n",
    "lossHistory_spectn = {}\n",
    "state_spectn = {}\n",
    "-- train config\n",
    "trainer_spectn = MyTrainer(model_spectn, criterion_spectn)\n",
    "trainer_spectn.lossHistory = lossHistory_spectn\n",
    "trainer_spectn.epoch = 1\n",
    "trainer_spectn.maxEpoch = 20\n",
    "trainer_spectn.batchSize = 48\n",
    "trainer_spectn.isoutput = true\n",
    "trainer_spectn.verbose = true\n",
    "trainer_spectn.outputeveryNepoch = 5\n",
    "trainer_spectn.datagen = gen_batch_input_spectn\n",
    "trainer_spectn.config.learningRateDecay = 0\n",
    "trainer_spectn.config.weightDecay = 0\n",
    "trainer_spectn.config.learningRate = 3e-3\n",
    "trainer_spectn.solver = optim.adam\n",
    "trainer_spectn.config.beta1 = 0.9\n",
    "trainer_spectn.config.beta2 = 0.999\n",
    "trainer_spectn.state = state_spectn\n",
    "trainer_spectn.tensorType = tensorType --'torch.CudaTensor' or 'torch.DoubleTensor'\n",
    "\n",
    "--local specParamJoint = matio.load(datapath..'../JointSpec/'..synset..'.mat')\n",
    "local specParamJoint = matio.load(datapath..'JointSpec/'..synset..'.mat')\n",
    "trainer_spectn.specParamJoint = {}\n",
    "trainer_spectn.specParamJoint.V = specParamJoint.V:type(tensorType)\n",
    "trainer_spectn.specParamJoint.D = specParamJoint.D:type(tensorType)\n",
    "trainer_spectn.specParamJoint.vidx = specParamJoint.vidx:view(-1):type(tensorType)\n",
    "trainer_spectn.specParamJoint.ngrid = 20\n",
    "trainer_spectn.specParamJoint.ndim_sep = ndim\n",
    "trainer_spectn.specParamJoint.ndim_joint = ndimJoint\n",
    "\n",
    "trainer_spectn.evaluate = 0\n",
    "trainer_spectn.outputpath = './Model/'..synset..'/'\n",
    "trainer_spectn.outputprefix = 'FuncMap'..synset\n",
    "if not paths.dirp(trainer_spectn.outputpath) then\n",
    "    paths.mkdir(trainer_spectn.outputpath)\n",
    "end"
   ]
  },
  {
   "cell_type": "code",
   "execution_count": null,
   "metadata": {
    "collapsed": false
   },
   "outputs": [],
   "source": [
    "-- start train\n",
    "trainer_spectn:train(trainList,testList)"
   ]
  },
  {
   "cell_type": "code",
   "execution_count": null,
   "metadata": {
    "collapsed": false
   },
   "outputs": [],
   "source": []
  },
  {
   "cell_type": "code",
   "execution_count": null,
   "metadata": {
    "collapsed": false
   },
   "outputs": [],
   "source": [
    "-- train model learn trans\n",
    "spectn = torch.load('./Model/'..synset..'/FuncMap'..synset..'_epoch20.dat')\n",
    "model_spectn = spectn[2]\n",
    "state_spectn = spectn[3]\n",
    "model = SyncSpecCNN(model_spectn,ndim,ndimJoint,nin,nout):cuda()\n",
    "criterion = nn.MyCriterion(ndim):cuda()\n",
    "lossHistory = {}\n",
    "state = {}\n",
    "splitimx = torch.Tensor(#model.modules):fill(0)\n",
    "for i=2,#model.modules do\n",
    "    if model.modules[i].weight or model.modules[i].modules then\n",
    "        splitimx[i] = model.modules[i]:getParameters():size(1)+splitimx[i-1]\n",
    "    else\n",
    "        splitimx[i] = splitimx[i]+splitimx[i-1]\n",
    "    end\n",
    "end\n",
    "\n",
    "-- indicate the which module corresponds to SpecTN\n",
    "--[[\n",
    "local transModuleIdx = 6\n",
    "nparam = model:getParameters():size(1)\n",
    "state.v = torch.Tensor(nparam):type(tensorType):fill(0)\n",
    "state.m = torch.Tensor(nparam):type(tensorType):fill(0)\n",
    "state.denom = torch.Tensor(nparam):type(tensorType):fill(0)\n",
    "state.t = 0\n",
    "state.v[{{splitimx[transModuleIdx-1]+1,splitimx[transModuleIdx]}}] = state_spectn.v\n",
    "state.m[{{splitimx[transModuleIdx-1]+1,splitimx[transModuleIdx]}}] = state_spectn.m\n",
    "state.denom[{{splitimx[transModuleIdx-1]+1,splitimx[transModuleIdx]}}] = state_spectn.denom\n",
    "]]--\n",
    "\n",
    "-- train\n",
    "trainer = MyTrainer(model, criterion)\n",
    "trainer.lossHistory = lossHistory\n",
    "trainer.epoch = 1\n",
    "trainer.maxEpoch = 5\n",
    "trainer.batchSize = 24\n",
    "trainer.isoutput = true\n",
    "trainer.verbose = true\n",
    "trainer.outputeveryNepoch = 2\n",
    "trainer.datagen = gen_batch_input\n",
    "trainer.config.learningRateDecay = 1e-4\n",
    "trainer.config.weightDecay = 0\n",
    "\n",
    "trainer.config.learningRate = 3e-3\n",
    "trainer.solver = optim.adam\n",
    "\n",
    "--[[\n",
    "local learningRate1 = 3e-3\n",
    "local learningRate2 = 1e-6\n",
    "trainer.config.learningRate = torch.Tensor({learningRate1,learningRate2,learningRate1})\n",
    "trainer.config.learningRateSplit = torch.Tensor({0,splitimx[transModuleIdx-1],splitimx[transModuleIdx],model:getParameters():size(1)})\n",
    "trainer.solver = optim.adammy\n",
    "]]--\n",
    "\n",
    "trainer.config.beta1 = 0.9\n",
    "trainer.config.beta2 = 0.999\n",
    "trainer.state = state\n",
    "trainer.tensorType = tensorType --'torch.CudaTensor' or 'torch.DoubleTensor'\n",
    "trainer.evaluate = 1\n",
    "trainer.outputpath = './Model/'..synset..'/'\n",
    "trainer.outputprefix = 'SyncSpecCNN'..synset"
   ]
  },
  {
   "cell_type": "code",
   "execution_count": null,
   "metadata": {
    "collapsed": false
   },
   "outputs": [],
   "source": []
  },
  {
   "cell_type": "code",
   "execution_count": null,
   "metadata": {
    "collapsed": false
   },
   "outputs": [],
   "source": [
    "-- train model learn trans2\n",
    "require 'SpecTransPredVinVox'\n",
    "spectn = torch.load('./Model/'..synset..'/FuncMap'..synset..'_epoch20.dat')\n",
    "model_spectn = spectn[2]\n",
    "state_spectn = spectn[3]\n",
    "--model_spectn = torch.load('/orions4-zfs/projects/ericyi/SCNN/Code/lua/scnn_v11_commandline/Model/LampSmall/FuncMap'..synset..'15_model_epoch20.dat')\n",
    "--state_spectn = torch.load('/orions4-zfs/projects/ericyi/SCNN/Code/lua/scnn_v11_commandline/Model/LampSmall/FuncMap'..synset..'15_solverstate_epoch20.dat')\n",
    "model = SyncSpecCNN2(model_spectn,ndim,ndimJoint,nin,nout):cuda()\n",
    "criterion = nn.MyCriterion(ndim):cuda()\n",
    "lossHistory = {}\n",
    "state = {}\n",
    "splitimx = torch.Tensor(#model.modules):fill(0)\n",
    "for i=2,#model.modules do\n",
    "    if model.modules[i].weight or model.modules[i].modules then\n",
    "        splitimx[i] = model.modules[i]:getParameters():size(1)+splitimx[i-1]\n",
    "    else\n",
    "        splitimx[i] = splitimx[i]+splitimx[i-1]\n",
    "    end\n",
    "end\n",
    "\n",
    "-- indicate the which module corresponds to SpecTN\n",
    "local transModuleIdx = 38\n",
    "nparam = model:getParameters():size(1)\n",
    "state.v = torch.Tensor(nparam):type(tensorType):fill(0)\n",
    "state.m = torch.Tensor(nparam):type(tensorType):fill(0)\n",
    "state.denom = torch.Tensor(nparam):type(tensorType):fill(0)\n",
    "state.t = 0\n",
    "state.v[{{splitimx[transModuleIdx-1]+1,splitimx[transModuleIdx]}}] = state_spectn.v\n",
    "state.m[{{splitimx[transModuleIdx-1]+1,splitimx[transModuleIdx]}}] = state_spectn.m\n",
    "state.denom[{{splitimx[transModuleIdx-1]+1,splitimx[transModuleIdx]}}] = state_spectn.denom\n",
    "\n",
    "-- train\n",
    "trainer = MyTrainer(model, criterion)\n",
    "trainer.lossHistory = lossHistory\n",
    "trainer.epoch = 1\n",
    "trainer.maxEpoch = 3\n",
    "trainer.batchSize = 24\n",
    "trainer.isoutput = true\n",
    "trainer.verbose = true\n",
    "trainer.outputeveryNepoch = 2\n",
    "trainer.datagen = gen_batch_input\n",
    "trainer.config.learningRateDecay = 1e-4\n",
    "trainer.config.weightDecay = 0\n",
    "local learningRate1 = 3e-3\n",
    "local learningRate2 = 1e-6\n",
    "trainer.config.learningRate = torch.Tensor({learningRate1,learningRate2,learningRate1})\n",
    "trainer.config.learningRateSplit = torch.Tensor({0,splitimx[transModuleIdx-1],splitimx[transModuleIdx],model:getParameters():size(1)})\n",
    "trainer.solver = optim.adammy\n",
    "trainer.config.beta1 = 0.9\n",
    "trainer.config.beta2 = 0.999\n",
    "trainer.state = state\n",
    "trainer.tensorType = tensorType --'torch.CudaTensor' or 'torch.DoubleTensor'\n",
    "trainer.evaluate = 1\n",
    "trainer.outputpath = './Model/'..synset..'/'\n",
    "trainer.outputprefix = 'SyncSpecCNN'..synset"
   ]
  },
  {
   "cell_type": "code",
   "execution_count": null,
   "metadata": {
    "collapsed": false
   },
   "outputs": [],
   "source": [
    "-- start train\n",
    "trainer:train(trainList,testList)"
   ]
  }
 ],
 "metadata": {
  "kernelspec": {
   "display_name": "iTorch",
   "language": "lua",
   "name": "itorch"
  },
  "language_info": {
   "name": "lua",
   "version": "5.1"
  }
 },
 "nbformat": 4,
 "nbformat_minor": 0
}
